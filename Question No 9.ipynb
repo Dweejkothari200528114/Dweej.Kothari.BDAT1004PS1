{
 "cells": [
  {
   "cell_type": "markdown",
   "id": "9437952b",
   "metadata": {},
   "source": [
    "# Question No 9\n",
    "Each of the following will cause an exception (an error). Identify what type of \n",
    "exception each will cause.\n",
    "\n",
    "Trying to add incompatible variables,as in adding 6 + ‘a’\n",
    "Referring to the 12th item of a list that has only 10 items\n",
    "Using a value that is out ofrange for a function’s input,such as calling math.sqrt(-1.0)\n",
    "Using an undeclared variable, such as print(x) when x has not been defined\n",
    "Trying to open a file that does not exist, such as mistyping the file name or looking in the wrong directory.\n"
   ]
  },
  {
   "cell_type": "markdown",
   "id": "04389eea",
   "metadata": {},
   "source": [
    "                              Error                                                                  Error Message\n",
    "Trying to add incompatible variables,as in adding 6 + ‘a’                                          Unsupported Type\n",
    "Referring to the 12th item of a list that has only 10 items                                        Out Of Index\n",
    "Using a value that is out ofrange for a function’s input,such as calling math.sqrt(-1.0)           Domain Error\n",
    "Using an undeclared variable, such as print(x) when x has not been defined                         variable not defined\n",
    "Trying to open a file that does not exist, such as mistyping the file name or                      No such directory found\n",
    "looking in the wrong directory."
   ]
  }
 ],
 "metadata": {
  "kernelspec": {
   "display_name": "Python 3 (ipykernel)",
   "language": "python",
   "name": "python3"
  },
  "language_info": {
   "codemirror_mode": {
    "name": "ipython",
    "version": 3
   },
   "file_extension": ".py",
   "mimetype": "text/x-python",
   "name": "python",
   "nbconvert_exporter": "python",
   "pygments_lexer": "ipython3",
   "version": "3.9.12"
  }
 },
 "nbformat": 4,
 "nbformat_minor": 5
}
