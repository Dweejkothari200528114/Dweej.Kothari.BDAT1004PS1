{
 "cells": [
  {
   "cell_type": "markdown",
   "id": "ad260722",
   "metadata": {},
   "source": [
    "# Question No 5\n",
    "a. Write a function inside(x,y,x1,y1,x2,y2) that returns True or False \n",
    "dependingonwhetherthepoint(x,y)liesintherectanglewithlowerleft \n",
    "corner (x1,y1) and upper right corner (x2,y2).\n",
    ">>> inside(1,1,0,0,2,3)\n",
    "True\n",
    ">>> inside(-1,-1,0,0,2,3)\n",
    "False\n",
    "b. Use function inside()from part a. to write an expression that tests whether \n",
    "the point (1,1) lies in both of the following rectangles: one with lower left \n",
    "corner (0.3, 0.5) and upper right corner (1.1, 0.7) and the other with lower \n",
    "left corner (0.5, 0.2) and upper right corner (1.1, 2)"
   ]
  },
  {
   "cell_type": "markdown",
   "id": "3b0df0c6",
   "metadata": {},
   "source": [
    "# A.\n",
    "Write a function inside(x,y,x1,y1,x2,y2) that returns True or False \n",
    "dependingonwhetherthepoint(x,y)liesintherectanglewithlowerleft \n",
    "corner (x1,y1) and upper right corner (x2,y2).\n",
    ">>> inside(1,1,0,0,2,3)\n",
    "True\n",
    ">>> inside(-1,-1,0,0,2,3)\n",
    "False"
   ]
  },
  {
   "cell_type": "code",
   "execution_count": 3,
   "id": "76a86f38",
   "metadata": {},
   "outputs": [
    {
     "name": "stdout",
     "output_type": "stream",
     "text": [
      "Enter x: 1\n",
      "Enter y: 1\n",
      "Enter x1: 0\n",
      "Enter y1: 0\n",
      "Enter x2: 2\n",
      "Enter y2: 3\n",
      "True\n"
     ]
    }
   ],
   "source": [
    "x = int(input(\"Enter x: \"))\n",
    "y = int(input(\"Enter y: \"))\n",
    "x1 = int(input(\"Enter x1: \"))\n",
    "y1 = int(input(\"Enter y1: \"))\n",
    "x2 = int(input(\"Enter x2: \"))\n",
    "y2 = int(input(\"Enter y2: \"))\n",
    "\n",
    "def inside(x,y,x1,y1,x2,y2):\n",
    "    \n",
    "    if(x > x1 and x < x2) and (y > y1 and y < y2):\n",
    "        print('True')\n",
    "        \n",
    "    else:\n",
    "        print('False')\n",
    "        \n",
    "inside(x,y,x1,y1,x2,y2)"
   ]
  },
  {
   "cell_type": "markdown",
   "id": "2bf9355c",
   "metadata": {},
   "source": [
    "# B.\n",
    "Use function inside()from part a. to write an expression that tests whether \n",
    "the point (1,1) lies in both of the following rectangles: one with lower left \n",
    "corner (0.3, 0.5) and upper right corner (1.1, 0.7) and the other with lower \n",
    "left corner (0.5, 0.2) and upper right corner (1.1, 2)"
   ]
  },
  {
   "cell_type": "code",
   "execution_count": 4,
   "id": "03c6e618",
   "metadata": {},
   "outputs": [
    {
     "name": "stdout",
     "output_type": "stream",
     "text": [
      "False\n"
     ]
    }
   ],
   "source": [
    "inside(1,1,0.3,0.5,1.1,0.7)"
   ]
  },
  {
   "cell_type": "code",
   "execution_count": 5,
   "id": "58c759a0",
   "metadata": {},
   "outputs": [
    {
     "name": "stdout",
     "output_type": "stream",
     "text": [
      "True\n"
     ]
    }
   ],
   "source": [
    "inside(1,1,0.5,0.2,1.1,2)"
   ]
  },
  {
   "cell_type": "code",
   "execution_count": null,
   "id": "155fc3e9",
   "metadata": {},
   "outputs": [],
   "source": []
  }
 ],
 "metadata": {
  "kernelspec": {
   "display_name": "Python 3 (ipykernel)",
   "language": "python",
   "name": "python3"
  },
  "language_info": {
   "codemirror_mode": {
    "name": "ipython",
    "version": 3
   },
   "file_extension": ".py",
   "mimetype": "text/x-python",
   "name": "python",
   "nbconvert_exporter": "python",
   "pygments_lexer": "ipython3",
   "version": "3.9.12"
  }
 },
 "nbformat": 4,
 "nbformat_minor": 5
}
