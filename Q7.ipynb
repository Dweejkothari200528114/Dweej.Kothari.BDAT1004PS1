{
 "cells": [
  {
   "cell_type": "code",
   "execution_count": 19,
   "id": "b60994e5",
   "metadata": {},
   "outputs": [],
   "source": [
    "def bloodcount(bloodtype1):\n",
    "    d = open(bloodtype1,'r')\n",
    "    word = d.readline()\n",
    "    lst = []\n",
    "    blood_types = ['A','A+','A-','B','B+','B-','O','O+','O-']\n",
    "    lst.append(word.split(\" \"))\n",
    "    \n",
    "    for blood_type in blood_types:\n",
    "        print(\"there are {} patients of {} bloodtype.\".format(lst[0].count(blood_type),blood_type))"
   ]
  },
  {
   "cell_type": "code",
   "execution_count": 20,
   "id": "5c7ef357",
   "metadata": {},
   "outputs": [
    {
     "name": "stdout",
     "output_type": "stream",
     "text": [
      "there are 15 patients of A bloodtype.\n",
      "there are 0 patients of A+ bloodtype.\n",
      "there are 0 patients of A- bloodtype.\n",
      "there are 1 patients of B bloodtype.\n",
      "there are 0 patients of B+ bloodtype.\n",
      "there are 0 patients of B- bloodtype.\n",
      "there are 15 patients of O bloodtype.\n",
      "there are 0 patients of O+ bloodtype.\n",
      "there are 0 patients of O- bloodtype.\n"
     ]
    }
   ],
   "source": [
    "bloodcount('bloodtype1.txt')"
   ]
  },
  {
   "cell_type": "code",
   "execution_count": null,
   "id": "6880bf3d",
   "metadata": {},
   "outputs": [],
   "source": []
  }
 ],
 "metadata": {
  "kernelspec": {
   "display_name": "Python 3 (ipykernel)",
   "language": "python",
   "name": "python3"
  },
  "language_info": {
   "codemirror_mode": {
    "name": "ipython",
    "version": 3
   },
   "file_extension": ".py",
   "mimetype": "text/x-python",
   "name": "python",
   "nbconvert_exporter": "python",
   "pygments_lexer": "ipython3",
   "version": "3.9.12"
  }
 },
 "nbformat": 4,
 "nbformat_minor": 5
}
