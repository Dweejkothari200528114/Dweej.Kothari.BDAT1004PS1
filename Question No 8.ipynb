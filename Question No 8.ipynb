{
 "cells": [
  {
   "cell_type": "markdown",
   "id": "8efc6263",
   "metadata": {},
   "source": [
    "# Question No 8\n",
    "Write a function curconv() that takes as input:\n",
    "1. a currency represented using a string (e.g., 'JPY' for the Japanese Yen or \n",
    "'EUR' for the Euro)\n",
    "2. an amount\n",
    "and then converts and returns the amount in US dollars.\n",
    ">>> curconv('EUR', 100)\n",
    "122.96544\n",
    ">>> curconv('JPY', 100)\n",
    "1.241401\n"
   ]
  },
  {
   "cell_type": "code",
   "execution_count": 2,
   "id": "a201a4d3",
   "metadata": {},
   "outputs": [],
   "source": [
    "def CurrenciesDk(currency,amount):\n",
    "    currencies = {}\n",
    "    \n",
    "    cur_file = open('currencies.txt')\n",
    "    lines = cur_file.readlines()\n",
    "    \n",
    "  \n",
    "    for x in lines:\n",
    "        currencies[x[:3].strip()] = x[4:].split(\"\\t\")\n",
    "    value = currencies[currency][0].strip()\n",
    "    print(amount * float(value))"
   ]
  },
  {
   "cell_type": "code",
   "execution_count": 12,
   "id": "65c54e79",
   "metadata": {},
   "outputs": [
    {
     "name": "stdout",
     "output_type": "stream",
     "text": [
      "122.96544\n"
     ]
    }
   ],
   "source": [
    "CurrenciesDk('EUR', 100)"
   ]
  },
  {
   "cell_type": "code",
   "execution_count": 3,
   "id": "fb59b40d",
   "metadata": {},
   "outputs": [
    {
     "name": "stdout",
     "output_type": "stream",
     "text": [
      "1.241401\n"
     ]
    }
   ],
   "source": [
    "CurrenciesDk('JPY', 100)"
   ]
  },
  {
   "cell_type": "code",
   "execution_count": null,
   "id": "d90012ea",
   "metadata": {},
   "outputs": [],
   "source": []
  }
 ],
 "metadata": {
  "kernelspec": {
   "display_name": "Python 3 (ipykernel)",
   "language": "python",
   "name": "python3"
  },
  "language_info": {
   "codemirror_mode": {
    "name": "ipython",
    "version": 3
   },
   "file_extension": ".py",
   "mimetype": "text/x-python",
   "name": "python",
   "nbconvert_exporter": "python",
   "pygments_lexer": "ipython3",
   "version": "3.9.12"
  }
 },
 "nbformat": 4,
 "nbformat_minor": 5
}
