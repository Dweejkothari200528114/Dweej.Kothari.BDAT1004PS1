{
 "cells": [
  {
   "cell_type": "markdown",
   "id": "a861469d",
   "metadata": {},
   "source": [
    "# Question No 1. What data type is each of the following?\n",
    "5                         :Integer\n",
    "5.0                       :float (double)\n",
    "5 > 1                     :boolean\n",
    "'5'                       :string\n",
    "5 * 2                     :integer\n",
    "'5' * 2                   :string\n",
    "'5' + '2'                 :string\n",
    "5 / 2                     :float\n",
    "5 % 2                     :integer\n",
    "{5, 2, 1}                 :integer array\n",
    "5 == 3                    :boolean\n",
    "Pi (the number)           :float (double)\n"
   ]
  }
 ],
 "metadata": {
  "kernelspec": {
   "display_name": "Python 3 (ipykernel)",
   "language": "python",
   "name": "python3"
  },
  "language_info": {
   "codemirror_mode": {
    "name": "ipython",
    "version": 3
   },
   "file_extension": ".py",
   "mimetype": "text/x-python",
   "name": "python",
   "nbconvert_exporter": "python",
   "pygments_lexer": "ipython3",
   "version": "3.9.12"
  }
 },
 "nbformat": 4,
 "nbformat_minor": 5
}
