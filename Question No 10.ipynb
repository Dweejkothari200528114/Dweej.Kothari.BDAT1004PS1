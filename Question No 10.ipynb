{
 "cells": [
  {
   "cell_type": "markdown",
   "id": "33cf8eaa",
   "metadata": {},
   "source": [
    "# Question 10 \n",
    "Assume that the string letters is already defined as \n",
    "'abcdefghijklmnopqrstuvwxyz'. Write a function called frequencies() \n",
    "that takes a string as its only parameter, and returns a list of integers, showing the \n",
    "number of times each character appears in the text. Your function may ignore any \n",
    "characters that are not in letters.\n",
    ">>> frequencies('The quick red fox got bored and went home.') \n",
    "[1, 1, 1, 3, 5, 1, 1, 2, 1, 0, 1, 0, 1, 2, 4, 0, 1, 2, 0, 2,\n",
    "1, 0, 1, 1, 0, 0]\n",
    ">>> frequencies('apple')"
   ]
  },
  {
   "cell_type": "code",
   "execution_count": 2,
   "id": "05e724ce",
   "metadata": {},
   "outputs": [],
   "source": [
    "def frequencies(text):\n",
    "    alphabets = ('a','b','c','d','e','f','g','h','i','j','k','l','m','n','o','p','q','r','s','t','u','v','w','x','y','z')\n",
    "    total_characters = []\n",
    "    alpha_dict = {}\n",
    "    for word in text:\n",
    "        for char in word:\n",
    "            if char.isalpha():\n",
    "                total_characters.append(char)\n",
    "    for char in alphabets:\n",
    "        if char in total_characters:\n",
    "            alpha_dict[char] = total_characters.count(char)\n",
    "        else:\n",
    "            alpha_dict[char] = 0\n",
    "    print(list(alpha_dict.values()))"
   ]
  },
  {
   "cell_type": "code",
   "execution_count": 5,
   "id": "cb836280",
   "metadata": {},
   "outputs": [
    {
     "name": "stdout",
     "output_type": "stream",
     "text": [
      "[1, 1, 1, 3, 5, 1, 1, 2, 1, 0, 1, 0, 1, 2, 4, 0, 1, 2, 0, 2, 1, 0, 1, 1, 0, 0]\n"
     ]
    }
   ],
   "source": [
    "frequencies('The quick red fox got bored and went home')"
   ]
  },
  {
   "cell_type": "code",
   "execution_count": 6,
   "id": "0a1ee5f7",
   "metadata": {},
   "outputs": [
    {
     "name": "stdout",
     "output_type": "stream",
     "text": [
      "[0, 0, 0, 0, 1, 0, 0, 0, 0, 0, 0, 1, 0, 0, 0, 2, 0, 0, 0, 0, 0, 0, 0, 0, 0, 0]\n"
     ]
    }
   ],
   "source": [
    "frequencies('Apple')"
   ]
  },
  {
   "cell_type": "code",
   "execution_count": null,
   "id": "19918399",
   "metadata": {},
   "outputs": [],
   "source": []
  }
 ],
 "metadata": {
  "kernelspec": {
   "display_name": "Python 3 (ipykernel)",
   "language": "python",
   "name": "python3"
  },
  "language_info": {
   "codemirror_mode": {
    "name": "ipython",
    "version": 3
   },
   "file_extension": ".py",
   "mimetype": "text/x-python",
   "name": "python",
   "nbconvert_exporter": "python",
   "pygments_lexer": "ipython3",
   "version": "3.9.12"
  }
 },
 "nbformat": 4,
 "nbformat_minor": 5
}
