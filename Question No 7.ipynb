{
 "cells": [
  {
   "cell_type": "markdown",
   "id": "1a84a465",
   "metadata": {},
   "source": [
    "# Question No 7 \n",
    "File bloodtype1.txt records blood-types of patients (A, B, AB, O or OO) at a clinic. \n",
    "Write a function bldcount() that reads the file with name name and reports (i.e., \n",
    "prints) how many patients there are in each bloodtype.\n",
    ">>> bldcount('bloodtype.txt')\n",
    "There are 10 patients of blood type A. \n",
    "There is one patient of blood type B. \n",
    "There are 10 patients of blood type AB. \n",
    "There are 12 patients of blood type O. \n",
    "There are no patients of blood type OO"
   ]
  },
  {
   "cell_type": "code",
   "execution_count": 4,
   "id": "b60994e5",
   "metadata": {},
   "outputs": [],
   "source": [
    "def bloodcount(bloodtype1):\n",
    "    #read .txt file from notebook \n",
    "    d = open(bloodtype1,'r')\n",
    "    word = d.readline()\n",
    "    lst = []\n",
    "    blood_types = ['A','B','AB','O','OO']\n",
    "    lst.append(word.split(\" \"))\n",
    "    \n",
    "    for blood_type in blood_types:\n",
    "        print(\"there are {} patients of {} bloodtype.\".format(lst[0].count(blood_type),blood_type))"
   ]
  },
  {
   "cell_type": "code",
   "execution_count": 5,
   "id": "d6819ffb",
   "metadata": {},
   "outputs": [
    {
     "name": "stdout",
     "output_type": "stream",
     "text": [
      "there are 15 patients of A bloodtype.\n",
      "there are 1 patients of B bloodtype.\n",
      "there are 13 patients of AB bloodtype.\n",
      "there are 15 patients of O bloodtype.\n",
      "there are 0 patients of OO bloodtype.\n"
     ]
    }
   ],
   "source": [
    "bloodcount('bloodtype1.txt')"
   ]
  },
  {
   "cell_type": "code",
   "execution_count": null,
   "id": "b9a8cd6e",
   "metadata": {},
   "outputs": [],
   "source": []
  }
 ],
 "metadata": {
  "kernelspec": {
   "display_name": "Python 3 (ipykernel)",
   "language": "python",
   "name": "python3"
  },
  "language_info": {
   "codemirror_mode": {
    "name": "ipython",
    "version": 3
   },
   "file_extension": ".py",
   "mimetype": "text/x-python",
   "name": "python",
   "nbconvert_exporter": "python",
   "pygments_lexer": "ipython3",
   "version": "3.9.12"
  }
 },
 "nbformat": 4,
 "nbformat_minor": 5
}
