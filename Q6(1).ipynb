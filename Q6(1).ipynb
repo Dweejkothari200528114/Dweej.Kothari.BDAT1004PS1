{
 "cells": [
  {
   "cell_type": "code",
   "execution_count": 1,
   "id": "7376b7d8",
   "metadata": {},
   "outputs": [],
   "source": [
    "vowels = ['a','e','i','o','u']\n",
    "def pig(w):\n",
    "\n",
    "    if w[0].lower() in vowels:\n",
    "        print(w.lower() + 'way')\n",
    "    else:\n",
    "        first_letter = w[0]\n",
    "        print(w[1:].lower()+first_letter.lower()+'ay')"
   ]
  },
  {
   "cell_type": "code",
   "execution_count": 2,
   "id": "01ef418c",
   "metadata": {},
   "outputs": [
    {
     "name": "stdout",
     "output_type": "stream",
     "text": [
      "weejday\n"
     ]
    }
   ],
   "source": [
    "pig('Dweej')"
   ]
  },
  {
   "cell_type": "code",
   "execution_count": 3,
   "id": "c614115b",
   "metadata": {},
   "outputs": [
    {
     "name": "stdout",
     "output_type": "stream",
     "text": [
      "otherway\n"
     ]
    }
   ],
   "source": [
    "pig('Other')"
   ]
  },
  {
   "cell_type": "code",
   "execution_count": null,
   "id": "a3f2dba9",
   "metadata": {},
   "outputs": [],
   "source": []
  }
 ],
 "metadata": {
  "kernelspec": {
   "display_name": "Python 3 (ipykernel)",
   "language": "python",
   "name": "python3"
  },
  "language_info": {
   "codemirror_mode": {
    "name": "ipython",
    "version": 3
   },
   "file_extension": ".py",
   "mimetype": "text/x-python",
   "name": "python",
   "nbconvert_exporter": "python",
   "pygments_lexer": "ipython3",
   "version": "3.9.12"
  }
 },
 "nbformat": 4,
 "nbformat_minor": 5
}
